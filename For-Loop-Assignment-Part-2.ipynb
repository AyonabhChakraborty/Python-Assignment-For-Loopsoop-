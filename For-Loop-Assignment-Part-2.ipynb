{
 "cells": [
  {
   "cell_type": "code",
   "execution_count": 2,
   "id": "3cf4ac20-e7ed-4f9d-af2f-2957369ef991",
   "metadata": {},
   "outputs": [
    {
     "name": "stdin",
     "output_type": "stream",
     "text": [
      "Enter the elements of the list to be separated using \",\" :  1,2,3,4,5,5,6\n"
     ]
    },
    {
     "name": "stdout",
     "output_type": "stream",
     "text": [
      "The mean for [1, 2, 3, 4, 5, 5, 6] is : 3.7142857142857144\n",
      "The median for [1, 2, 3, 4, 5, 5, 6] is : 4\n",
      "The mode for [1, 2, 3, 4, 5, 5, 6] is : 5\n"
     ]
    }
   ],
   "source": [
    "import statistics\n",
    "\n",
    "def checkmean(l):\n",
    "    mean = statistics.mean(l)\n",
    "    return mean\n",
    "\n",
    "def checkmedian(l):\n",
    "    median = statistics.median(l)\n",
    "    return median\n",
    "\n",
    "def checkmode(l):\n",
    "    try:\n",
    "        mode = statistics.mode(l)\n",
    "    except:\n",
    "        mode = \"No uniquwe mode found\"\n",
    "        \n",
    "    return mode\n",
    "\n",
    "\n",
    "\n",
    "\n",
    "\n",
    "s = input('Enter the elements of the list to be separated using \",\" : ').split(',')\n",
    "l = [int(x) for x in s]\n",
    "mean = checkmean(l)\n",
    "median = checkmedian(l)\n",
    "mode = checkmode(l)\n",
    "\n",
    "print(f'The mean for {l} is : {mean}')\n",
    "print(f'The median for {l} is : {median}')\n",
    "print(f'The mode for {l} is : {mode}')"
   ]
  },
  {
   "cell_type": "code",
   "execution_count": null,
   "id": "10a39af3-7b49-49b6-9e04-74e2f6295ad4",
   "metadata": {},
   "outputs": [],
   "source": []
  },
  {
   "cell_type": "code",
   "execution_count": null,
   "id": "a5956359-3e14-449f-9b59-c4007cc99591",
   "metadata": {},
   "outputs": [],
   "source": []
  },
  {
   "cell_type": "code",
   "execution_count": 5,
   "id": "2ef5bd70-0655-47ad-85a7-ff499c6a78d1",
   "metadata": {},
   "outputs": [
    {
     "name": "stdin",
     "output_type": "stream",
     "text": [
      "Enter the number of rows for the Pascals Triangle 10\n"
     ]
    },
    {
     "name": "stdout",
     "output_type": "stream",
     "text": [
      "             1             \n",
      "            1 1            \n",
      "           1 2 1           \n",
      "          1 3 3 1          \n",
      "         1 4 6 4 1         \n",
      "       1 5 10 10 5 1       \n",
      "      1 6 15 20 15 6 1     \n",
      "    1 7 21 35 35 21 7 1    \n",
      "   1 8 28 56 70 56 28 8 1  \n",
      "1 9 36 84 126 126 84 36 9 1\n"
     ]
    }
   ],
   "source": [
    "def generatetr(r):\n",
    "    triangle = []\n",
    "    for i in range(r):\n",
    "        if i == 0:\n",
    "            triangle.append([1])\n",
    "        else :\n",
    "            previous_row = triangle[-1]\n",
    "            next_row = [1] + [previous_row[j-1] + previous_row[j] for j in range(1,i)] + [1]\n",
    "            triangle.append(next_row)\n",
    "    return triangle\n",
    "\n",
    "def printtrian(triangle):\n",
    "    max_width = len(' '.join(map(str,triangle[-1])))\n",
    "    for row in triangle :\n",
    "        newrow = ' '.join(map(str,row)).center(max_width)\n",
    "        print(newrow)\n",
    "        \n",
    "    \n",
    "\n",
    "\n",
    "r = int(input('Enter the number of rows for the Pascals Triangle'))\n",
    "\n",
    "pt = generatetr(r)\n",
    "\n",
    "printtrian(pt)\n"
   ]
  },
  {
   "cell_type": "code",
   "execution_count": null,
   "id": "e0dbe345-341f-4237-9dc2-a4c4b5666f20",
   "metadata": {},
   "outputs": [],
   "source": []
  },
  {
   "cell_type": "code",
   "execution_count": null,
   "id": "c2c5baf8-6b1b-4d47-bf1f-420ae5959401",
   "metadata": {},
   "outputs": [],
   "source": []
  },
  {
   "cell_type": "code",
   "execution_count": 9,
   "id": "3f540d81-d125-40f7-82b0-416b1cac92c7",
   "metadata": {},
   "outputs": [
    {
     "name": "stdout",
     "output_type": "stream",
     "text": [
      "The sum of digits of factorial of 1 is :  1\n",
      "The sum of digits of factorial of 2 is :  2\n",
      "The sum of digits of factorial of 3 is :  6\n",
      "The sum of digits of factorial of 4 is :  6\n",
      "The sum of digits of factorial of 5 is :  3\n"
     ]
    }
   ],
   "source": [
    "def fact(n):\n",
    "    if n == 0 or n == 1:\n",
    "        return 1\n",
    "    else :\n",
    "        return n * fact(n-1)\n",
    "    \n",
    "sumofdigits = [sum(int(d) for d in str(fact(i))) for i in range(1,6)]\n",
    "\n",
    "for i,n in enumerate(range(1,6),1):\n",
    "    print(f'The sum of digits of factorial of {n} is : ', sumofdigits[i-1])"
   ]
  },
  {
   "cell_type": "code",
   "execution_count": null,
   "id": "0afd5638-119d-4f42-98f6-55645709aff8",
   "metadata": {},
   "outputs": [],
   "source": []
  },
  {
   "cell_type": "code",
   "execution_count": null,
   "id": "b3108837-4927-42dd-96f2-54be64992088",
   "metadata": {},
   "outputs": [],
   "source": []
  },
  {
   "cell_type": "code",
   "execution_count": 13,
   "id": "90c68446-a740-425e-8114-9d7324180f02",
   "metadata": {},
   "outputs": [
    {
     "name": "stdin",
     "output_type": "stream",
     "text": [
      "Enter the sentence of your choice :  Hello my dear\n"
     ]
    },
    {
     "name": "stdout",
     "output_type": "stream",
     "text": [
      "['Hello']\n"
     ]
    }
   ],
   "source": [
    "def findlong(s1):\n",
    "    longw = [w for w in s1 if len(w)==max(len(w) for w in s1)]\n",
    "    return longw\n",
    "    \n",
    "\n",
    "\n",
    "\n",
    "s = input('Enter the sentence of your choice : ')\n",
    "s1 = s.split(' ')\n",
    "\n",
    "c = findlong(s1)\n",
    "print(c)"
   ]
  },
  {
   "cell_type": "code",
   "execution_count": null,
   "id": "917911d0-5dec-46e1-b5c9-faa492c795a9",
   "metadata": {},
   "outputs": [],
   "source": []
  },
  {
   "cell_type": "code",
   "execution_count": null,
   "id": "a8adf886-166b-4ba2-9cfd-cc541e660806",
   "metadata": {},
   "outputs": [],
   "source": []
  },
  {
   "cell_type": "code",
   "execution_count": 24,
   "id": "eb534c50-5e8b-4636-9ca6-b3c37b29880f",
   "metadata": {},
   "outputs": [
    {
     "name": "stdout",
     "output_type": "stream",
     "text": [
      "['banana', 'heroku', 'breeeze']\n",
      "The strings with more than three vowels is : \n",
      "breeeze\n"
     ]
    }
   ],
   "source": [
    "def countv(x):\n",
    "    vowels = 'aeiouAEIOU'\n",
    "    return sum(1 for i in x if i in vowels)\n",
    "\n",
    "\n",
    "l = ['banana', 'heroku', 'breeeze']\n",
    "print(l)\n",
    "fs = [x for x in l if countv(x) > 3]\n",
    "\n",
    "print('The strings with more than three vowels is : ')\n",
    "for i in fs:\n",
    "    print(i)"
   ]
  },
  {
   "cell_type": "code",
   "execution_count": null,
   "id": "57821737-eb1f-47f5-96de-8858a1f66840",
   "metadata": {},
   "outputs": [],
   "source": []
  },
  {
   "cell_type": "code",
   "execution_count": null,
   "id": "3263f96b-e60e-4518-9fa4-1b3358022fae",
   "metadata": {},
   "outputs": [],
   "source": []
  },
  {
   "cell_type": "code",
   "execution_count": 27,
   "id": "c79349ac-328f-4e66-91e5-3bb63d809591",
   "metadata": {},
   "outputs": [
    {
     "name": "stdout",
     "output_type": "stream",
     "text": [
      "Total sum of digits from 1 to 1000 :  13501\n"
     ]
    }
   ],
   "source": [
    "def sumofdigits(n):\n",
    "    return sum(int(d) for d in str(n))\n",
    "\n",
    "sumx = [sumofdigits(n) for n in range(1,1001)]\n",
    "\n",
    "totalsum =  sum(sumx)\n",
    "\n",
    "print('Total sum of digits from 1 to 1000 : ', totalsum)"
   ]
  },
  {
   "cell_type": "code",
   "execution_count": null,
   "id": "28ed1847-7ede-48b9-b4b1-055bad07e3e2",
   "metadata": {},
   "outputs": [],
   "source": []
  },
  {
   "cell_type": "code",
   "execution_count": null,
   "id": "b44bf1c2-6899-44c0-ad55-c625235a5bfe",
   "metadata": {},
   "outputs": [],
   "source": []
  },
  {
   "cell_type": "code",
   "execution_count": 37,
   "id": "5d420174-9774-4982-972e-11a43f28a628",
   "metadata": {},
   "outputs": [
    {
     "name": "stdout",
     "output_type": "stream",
     "text": [
      "The palindromic prime numbers are :  [2, 3, 5, 7, 11, 101, 131, 151, 181, 191, 313, 353, 373, 383, 727, 757, 787, 797, 919, 929]\n"
     ]
    }
   ],
   "source": [
    "def checkprime(n):\n",
    "    if n<= 1:\n",
    "        return False\n",
    "    if n<=3:\n",
    "        return True\n",
    "    if n%2==0 or n%3==0:\n",
    "        return False\n",
    "    p = 5\n",
    "    while p*p<=n:\n",
    "        if n%p==0 or n%(p+2)==0:\n",
    "            return False\n",
    "        p = p + 6\n",
    "    return True\n",
    "\n",
    "\n",
    "\n",
    "pp = [n for n in range(1,10000) if checkprime(n) and str(n)==str(n)[::-1]]\n",
    "\n",
    "print('The palindromic prime numbers are : ', pp)\n"
   ]
  },
  {
   "cell_type": "code",
   "execution_count": null,
   "id": "5896aaf9-400c-46f3-9cb3-35f8eabb17da",
   "metadata": {},
   "outputs": [],
   "source": []
  },
  {
   "cell_type": "code",
   "execution_count": null,
   "id": "6ca80c93-3a7b-4b8d-b573-aada529244ff",
   "metadata": {},
   "outputs": [],
   "source": []
  }
 ],
 "metadata": {
  "kernelspec": {
   "display_name": "Python 3 (ipykernel)",
   "language": "python",
   "name": "python3"
  },
  "language_info": {
   "codemirror_mode": {
    "name": "ipython",
    "version": 3
   },
   "file_extension": ".py",
   "mimetype": "text/x-python",
   "name": "python",
   "nbconvert_exporter": "python",
   "pygments_lexer": "ipython3",
   "version": "3.10.8"
  }
 },
 "nbformat": 4,
 "nbformat_minor": 5
}
