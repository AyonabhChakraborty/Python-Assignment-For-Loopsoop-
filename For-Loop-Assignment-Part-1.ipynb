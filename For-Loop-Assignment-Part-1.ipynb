{
 "cells": [
  {
   "cell_type": "code",
   "execution_count": 6,
   "id": "74589fe7-b8a5-4097-a363-3b1ad1d84135",
   "metadata": {},
   "outputs": [
    {
     "name": "stdout",
     "output_type": "stream",
     "text": [
      "1\n",
      "2\n",
      "3\n",
      "4\n",
      "5\n",
      "6\n",
      "7\n",
      "8\n",
      "9\n",
      "10\n"
     ]
    }
   ],
   "source": [
    "for n in range(1,11):\n",
    "    print(n)"
   ]
  },
  {
   "cell_type": "code",
   "execution_count": null,
   "id": "378a00e8-9c5b-4b01-a784-2e04b33a6a56",
   "metadata": {},
   "outputs": [],
   "source": []
  },
  {
   "cell_type": "code",
   "execution_count": null,
   "id": "c12347b2-7ce7-4089-9f65-2ace3ed80820",
   "metadata": {},
   "outputs": [],
   "source": []
  },
  {
   "cell_type": "code",
   "execution_count": 5,
   "id": "21599767-d3af-4f2c-800a-ed7c19592e0f",
   "metadata": {},
   "outputs": [
    {
     "name": "stdout",
     "output_type": "stream",
     "text": [
      "The sum of the elements in the list :  353\n"
     ]
    }
   ],
   "source": [
    "l1 = [11, 23, 45, 63, 2, 87, 76, 46]\n",
    "s = 0\n",
    "\n",
    "for l in l1:\n",
    "    s = s + l\n",
    "    \n",
    "print('The sum of the elements in the list : ', s)"
   ]
  },
  {
   "cell_type": "code",
   "execution_count": null,
   "id": "395f5bc0-57a8-4b32-a2b7-f95c38af513c",
   "metadata": {},
   "outputs": [],
   "source": []
  },
  {
   "cell_type": "code",
   "execution_count": null,
   "id": "677b20a7-8f72-4f96-82eb-b141ad6827a3",
   "metadata": {},
   "outputs": [],
   "source": []
  },
  {
   "cell_type": "code",
   "execution_count": 7,
   "id": "b19a3d99-bb66-4a3f-a2c6-0ec96b406a86",
   "metadata": {},
   "outputs": [
    {
     "name": "stdout",
     "output_type": "stream",
     "text": [
      "The reversed string is :  zevlasnoG ynohtnA si emaN yM olleH\n"
     ]
    }
   ],
   "source": [
    "s = \"Hello My Name is Anthony Gonsalvez\"\n",
    "\n",
    "rs = \"\"\n",
    "\n",
    "for c in reversed(s):\n",
    "    rs+=c\n",
    "    \n",
    "print('The reversed string is : ', rs)"
   ]
  },
  {
   "cell_type": "code",
   "execution_count": null,
   "id": "a9b0a8d5-cbe6-4368-9c79-fa4d898b92ef",
   "metadata": {},
   "outputs": [],
   "source": []
  },
  {
   "cell_type": "code",
   "execution_count": null,
   "id": "3bc22928-4686-4fa1-96bd-d101e0ebdde1",
   "metadata": {},
   "outputs": [],
   "source": []
  },
  {
   "cell_type": "code",
   "execution_count": 8,
   "id": "41e096bd-e66c-44f9-9175-056b4fb6cad0",
   "metadata": {},
   "outputs": [
    {
     "name": "stdin",
     "output_type": "stream",
     "text": [
      "Enter the number whose factorial is to be found :  10\n"
     ]
    },
    {
     "name": "stdout",
     "output_type": "stream",
     "text": [
      "The factorial for the number  10  is :  3628800\n"
     ]
    }
   ],
   "source": [
    "n = int(input(\"Enter the number whose factorial is to be found : \"))\n",
    "\n",
    "fact = 1\n",
    "\n",
    "for i in range(1,n+1):\n",
    "    fact=fact*i\n",
    "    \n",
    "print('The factorial for the number ', n,' is : ', fact)"
   ]
  },
  {
   "cell_type": "code",
   "execution_count": null,
   "id": "a3c274c5-98c2-41c9-9e41-342bd58a317f",
   "metadata": {},
   "outputs": [],
   "source": []
  },
  {
   "cell_type": "code",
   "execution_count": null,
   "id": "0d48e4eb-1926-43df-b4db-5b2759bc6553",
   "metadata": {},
   "outputs": [],
   "source": []
  },
  {
   "cell_type": "code",
   "execution_count": 3,
   "id": "9b98270a-791c-42ef-85eb-ddc9e0cfbd5b",
   "metadata": {},
   "outputs": [
    {
     "name": "stdin",
     "output_type": "stream",
     "text": [
      "Enter the number for multiplication :  100\n"
     ]
    },
    {
     "name": "stdout",
     "output_type": "stream",
     "text": [
      "The multiplication table for 100 : \n",
      "100 \n",
      "\n",
      "200 \n",
      "\n",
      "300 \n",
      "\n",
      "400 \n",
      "\n",
      "500 \n",
      "\n",
      "600 \n",
      "\n",
      "700 \n",
      "\n",
      "800 \n",
      "\n",
      "900 \n",
      "\n",
      "1000 \n",
      "\n"
     ]
    }
   ],
   "source": [
    "n = int(input('Enter the number for multiplication : '))\n",
    "\n",
    "print(f'The multiplication table for {n} : ')\n",
    "\n",
    "for i in range(1,11):\n",
    "    t = n * i\n",
    "    print(t ,'\\n')"
   ]
  },
  {
   "cell_type": "code",
   "execution_count": null,
   "id": "271ec088-6d41-4bcd-901c-98d71b270998",
   "metadata": {},
   "outputs": [],
   "source": []
  },
  {
   "cell_type": "code",
   "execution_count": null,
   "id": "95b1bfb1-3791-4661-8c40-80446c63c64f",
   "metadata": {},
   "outputs": [],
   "source": []
  },
  {
   "cell_type": "code",
   "execution_count": 14,
   "id": "d8738b3f-9b0e-474e-95fb-85a7c02d4a60",
   "metadata": {},
   "outputs": [
    {
     "name": "stdin",
     "output_type": "stream",
     "text": [
      "Enter the numbers :  12 33 34 55 21 2 47 89 09 67 57\n"
     ]
    },
    {
     "name": "stdout",
     "output_type": "stream",
     "text": [
      "[12, 33, 34, 55, 21, 2, 47, 89, 9, 67, 57]\n",
      "The number of even numbers in the list is : 3\n",
      "The numebr of odd numbers in the list is : 8\n"
     ]
    }
   ],
   "source": [
    "n = input('Enter the numbers : ')\n",
    "x = [int(item) for item in n.split()]\n",
    "\n",
    "print(x)\n",
    "\n",
    "ecount = 0\n",
    "ocount = 0\n",
    "\n",
    "for n1 in x:\n",
    "    if n1%2 == 0:\n",
    "        ecount = ecount + 1\n",
    "    else:\n",
    "        ocount = ocount + 1\n",
    "\n",
    "print(f'The number of even numbers in the list is : {ecount}')\n",
    "print(f'The numebr of odd numbers in the list is : {ocount}')"
   ]
  },
  {
   "cell_type": "code",
   "execution_count": null,
   "id": "cad2e942-30cc-4c67-aabe-0f9c448a5ad7",
   "metadata": {},
   "outputs": [],
   "source": []
  },
  {
   "cell_type": "code",
   "execution_count": null,
   "id": "24296fc5-7c34-4fde-94f3-bd7a783973bb",
   "metadata": {},
   "outputs": [],
   "source": []
  },
  {
   "cell_type": "code",
   "execution_count": 16,
   "id": "f278cc26-9f4b-4fc3-9994-5c843c729578",
   "metadata": {},
   "outputs": [
    {
     "name": "stdout",
     "output_type": "stream",
     "text": [
      "The squares are as follows : \n",
      "1 \n",
      "\n",
      "4 \n",
      "\n",
      "9 \n",
      "\n",
      "16 \n",
      "\n",
      "25 \n",
      "\n"
     ]
    }
   ],
   "source": [
    "print('The squares are as follows : ')\n",
    "\n",
    "for i in range(1,6):\n",
    "    s = i*i\n",
    "    print(s ,'\\n')"
   ]
  },
  {
   "cell_type": "code",
   "execution_count": null,
   "id": "35e56b02-941b-4258-8eca-6df66d5e47b3",
   "metadata": {},
   "outputs": [],
   "source": []
  },
  {
   "cell_type": "code",
   "execution_count": null,
   "id": "95fca5f4-0afe-46f6-bcfc-020b972458ee",
   "metadata": {},
   "outputs": [],
   "source": []
  },
  {
   "cell_type": "code",
   "execution_count": 19,
   "id": "408e37c5-9e1d-4ffe-866a-827601c2c98e",
   "metadata": {},
   "outputs": [
    {
     "name": "stdin",
     "output_type": "stream",
     "text": [
      "Enter the string of your choice :  My Name is Anthony Gonsalvez\n"
     ]
    },
    {
     "name": "stdout",
     "output_type": "stream",
     "text": [
      "The length of the string is :  28\n"
     ]
    }
   ],
   "source": [
    "s = input('Enter the string of your choice : ')\n",
    "l = 0\n",
    "for char in s:\n",
    "    l = l + 1\n",
    "    \n",
    "print('The length of the string is : ',l)"
   ]
  },
  {
   "cell_type": "code",
   "execution_count": null,
   "id": "e479b215-a6d6-4090-b4db-793c59c7be36",
   "metadata": {},
   "outputs": [],
   "source": []
  },
  {
   "cell_type": "code",
   "execution_count": null,
   "id": "db66bea3-4155-47f5-9857-cc6f7fb5604c",
   "metadata": {},
   "outputs": [],
   "source": []
  },
  {
   "cell_type": "code",
   "execution_count": 23,
   "id": "7942593e-7f85-4e5b-99b9-d52f291c7bcf",
   "metadata": {},
   "outputs": [
    {
     "name": "stdin",
     "output_type": "stream",
     "text": [
      "Enter the list of numbers separated by \",\" :  1,2,3,4,5,6,7,8,9,10,11,12,13,14,15,16,17,18,18,20\n"
     ]
    },
    {
     "name": "stdout",
     "output_type": "stream",
     "text": [
      "The average of the numbers is : 10.45\n"
     ]
    }
   ],
   "source": [
    "s = input('Enter the list of numbers separated by \",\" : ').split(',')\n",
    "n = [int(i.strip()) for i in s]\n",
    "\n",
    "t = 0\n",
    "c = 0\n",
    "\n",
    "for i in n:\n",
    "    t = t + i\n",
    "    c = c + 1\n",
    "    \n",
    "if c == 0:\n",
    "    print('The calculation of the average of the numbers in the list is not possible.')\n",
    "else:\n",
    "    a = t/c\n",
    "    print(f'The average of the numbers is : {a}')"
   ]
  },
  {
   "cell_type": "code",
   "execution_count": null,
   "id": "375e5d02-b1c4-46fa-a6f0-d1dfbdd6e924",
   "metadata": {},
   "outputs": [],
   "source": []
  },
  {
   "cell_type": "code",
   "execution_count": null,
   "id": "ea136669-bc00-484e-b355-0658d385d62f",
   "metadata": {},
   "outputs": [],
   "source": []
  },
  {
   "cell_type": "code",
   "execution_count": 24,
   "id": "af9f57fb-1686-4543-b076-defd33176f86",
   "metadata": {},
   "outputs": [
    {
     "name": "stdin",
     "output_type": "stream",
     "text": [
      "Enter the number of fibonacci numbers to be generated 15\n"
     ]
    },
    {
     "name": "stdout",
     "output_type": "stream",
     "text": [
      "The first 15 fibonacci numbers are : \n",
      "0 1 1 2 3 5 8 13 21 34 55 89 144 233 377 "
     ]
    }
   ],
   "source": [
    "n = int(input('Enter the number of fibonacci numbers to be generated'))\n",
    "\n",
    "fibseq = [0,1]\n",
    "\n",
    "for i in range(2,n):\n",
    "    fibnum = fibseq[i-1] + fibseq[i-2]\n",
    "    fibseq.append(fibnum)\n",
    "print(f'The first {n} fibonacci numbers are : ')\n",
    "for i in fibseq:\n",
    "    print(i, end=\" \")"
   ]
  },
  {
   "cell_type": "code",
   "execution_count": null,
   "id": "5b2d198c-4c77-4957-82d9-0f71c84d8aa4",
   "metadata": {},
   "outputs": [],
   "source": []
  },
  {
   "cell_type": "code",
   "execution_count": null,
   "id": "ac36ad87-4aae-4c7c-9314-bc7858696f6c",
   "metadata": {},
   "outputs": [],
   "source": []
  },
  {
   "cell_type": "code",
   "execution_count": 2,
   "id": "d7a5405c-fc46-48ca-8b07-29b6fc4d8c12",
   "metadata": {},
   "outputs": [
    {
     "name": "stdin",
     "output_type": "stream",
     "text": [
      "Enter the elements of the list separated by comma 1,2,3,4,5,6,7,7,8\n"
     ]
    },
    {
     "name": "stdout",
     "output_type": "stream",
     "text": [
      "Duplicates are present\n"
     ]
    }
   ],
   "source": [
    "def getdup(l):\n",
    "    for i in range(len(l)):\n",
    "        for j in range(i+1,len(l)):\n",
    "            if l[i] == l[j]:\n",
    "                return True\n",
    "    return False\n",
    "\n",
    "s = input('Enter the elements of the list separated by comma').split(',')\n",
    "l = [int(i) for i in s]\n",
    "result = getdup(l)\n",
    "if result:\n",
    "    print('Duplicates are present')\n",
    "else:\n",
    "    print('Duplicates are not present')"
   ]
  },
  {
   "cell_type": "code",
   "execution_count": null,
   "id": "be450083-3490-4320-a7c9-6b1f8cacdb8a",
   "metadata": {},
   "outputs": [],
   "source": []
  },
  {
   "cell_type": "code",
   "execution_count": null,
   "id": "292a0d9e-cbe0-4557-bf60-c8f8225ec170",
   "metadata": {},
   "outputs": [],
   "source": []
  },
  {
   "cell_type": "code",
   "execution_count": 6,
   "id": "042743b0-301c-4e00-a160-380fb3420899",
   "metadata": {},
   "outputs": [
    {
     "name": "stdin",
     "output_type": "stream",
     "text": [
      "Enter the lower limit of the range :  2\n",
      "Enter the upper limit of the range :  500\n"
     ]
    },
    {
     "name": "stdout",
     "output_type": "stream",
     "text": [
      "Prime numbers present within 2 and 500 is : \n",
      "2\n",
      "3\n",
      "5\n",
      "7\n",
      "11\n",
      "13\n",
      "17\n",
      "19\n",
      "23\n",
      "29\n",
      "31\n",
      "37\n",
      "41\n",
      "43\n",
      "47\n",
      "53\n",
      "59\n",
      "61\n",
      "67\n",
      "71\n",
      "73\n",
      "79\n",
      "83\n",
      "89\n",
      "97\n",
      "101\n",
      "103\n",
      "107\n",
      "109\n",
      "113\n",
      "127\n",
      "131\n",
      "137\n",
      "139\n",
      "149\n",
      "151\n",
      "157\n",
      "163\n",
      "167\n",
      "173\n",
      "179\n",
      "181\n",
      "191\n",
      "193\n",
      "197\n",
      "199\n",
      "211\n",
      "223\n",
      "227\n",
      "229\n",
      "233\n",
      "239\n",
      "241\n",
      "251\n",
      "257\n",
      "263\n",
      "269\n",
      "271\n",
      "277\n",
      "281\n",
      "283\n",
      "293\n",
      "307\n",
      "311\n",
      "313\n",
      "317\n",
      "331\n",
      "337\n",
      "347\n",
      "349\n",
      "353\n",
      "359\n",
      "367\n",
      "373\n",
      "379\n",
      "383\n",
      "389\n",
      "397\n",
      "401\n",
      "409\n",
      "419\n",
      "421\n",
      "431\n",
      "433\n",
      "439\n",
      "443\n",
      "449\n",
      "457\n",
      "461\n",
      "463\n",
      "467\n",
      "479\n",
      "487\n",
      "491\n",
      "499\n"
     ]
    }
   ],
   "source": [
    "def is_prime(n):\n",
    "    if n <= 1:\n",
    "        return False\n",
    "    for i in range(2, int(n**0.5)+1):\n",
    "        if n%i==0:\n",
    "            return False\n",
    "    return True\n",
    "\n",
    "def in_range(s,e):\n",
    "    for n in range(s,e):\n",
    "        if is_prime(n):\n",
    "            print(n)\n",
    "            \n",
    "s = int(input('Enter the lower limit of the range : '))\n",
    "e = int(input('Enter the upper limit of the range : '))\n",
    "\n",
    "print(f'Prime numbers present within {s} and {e} is : ')\n",
    "in_range(s,e)"
   ]
  },
  {
   "cell_type": "code",
   "execution_count": null,
   "id": "7bdd9192-52f7-4afb-b069-a156cf18fce7",
   "metadata": {},
   "outputs": [],
   "source": []
  },
  {
   "cell_type": "code",
   "execution_count": null,
   "id": "e7385c77-c27d-48bc-a60f-758f87bef61f",
   "metadata": {},
   "outputs": [],
   "source": []
  },
  {
   "cell_type": "code",
   "execution_count": 8,
   "id": "c214752f-8b16-4ba2-af04-56e44590449e",
   "metadata": {},
   "outputs": [
    {
     "name": "stdin",
     "output_type": "stream",
     "text": [
      "Enter the string of your choice hello\n"
     ]
    },
    {
     "name": "stdout",
     "output_type": "stream",
     "text": [
      "The number of vowels present in the given string is :  2\n"
     ]
    }
   ],
   "source": [
    "def getvow(s):\n",
    "    vowels = 'aeiouAEIOU'\n",
    "    c = 0\n",
    "    for char in s:\n",
    "        if char in vowels:\n",
    "            c = c+1\n",
    "    return c\n",
    "        \n",
    "    \n",
    "\n",
    "\n",
    "s = input('Enter the string of your choice')\n",
    "c = getvow(s)\n",
    "print('The number of vowels present in the given string is : ', c)\n",
    "\n"
   ]
  },
  {
   "cell_type": "code",
   "execution_count": null,
   "id": "3831765d-2085-4501-9212-ceef5f1e5eb4",
   "metadata": {},
   "outputs": [],
   "source": []
  },
  {
   "cell_type": "code",
   "execution_count": null,
   "id": "a6235901-66ca-4a22-8ca2-eab3b97e9100",
   "metadata": {},
   "outputs": [],
   "source": []
  },
  {
   "cell_type": "code",
   "execution_count": 5,
   "id": "33261afb-90d5-4aca-b7ab-961f4273e7d8",
   "metadata": {},
   "outputs": [
    {
     "name": "stdout",
     "output_type": "stream",
     "text": [
      "The largest element in [[1, 2, 3], [4, 5, 6], [7, 8, 9]] is 9\n"
     ]
    }
   ],
   "source": [
    "def maxxed(m):\n",
    "    if not m:\n",
    "        return None\n",
    "    \n",
    "    maxx = m[0][0]\n",
    "    \n",
    "    for row in m:\n",
    "        for ele in row:\n",
    "            if ele > maxx :\n",
    "                maxx = ele\n",
    "    return maxx\n",
    "\n",
    "\n",
    "\n",
    "\n",
    "m = [[1,2,3],[4,5,6],[7,8,9]]\n",
    "\n",
    "res = maxxed(m)\n",
    "if res:\n",
    "    print(f'The largest element in {m} is {res}')\n",
    "else:\n",
    "    print('NaN')"
   ]
  },
  {
   "cell_type": "code",
   "execution_count": null,
   "id": "3d19a393-b127-41fd-92dc-e01708338c60",
   "metadata": {},
   "outputs": [],
   "source": []
  },
  {
   "cell_type": "code",
   "execution_count": null,
   "id": "544c66cd-8453-4fea-8b36-ca5f3d8a42a8",
   "metadata": {},
   "outputs": [],
   "source": []
  },
  {
   "cell_type": "code",
   "execution_count": 8,
   "id": "afa7d271-77a8-4b30-bad1-0a60f4e7fe6a",
   "metadata": {},
   "outputs": [
    {
     "name": "stdin",
     "output_type": "stream",
     "text": [
      "Enter the element to be removed :  5\n"
     ]
    },
    {
     "name": "stdout",
     "output_type": "stream",
     "text": [
      "Original List is [1, 2, 3, 4, 5, 6, 7, 8, 9, 0]\n",
      "Element removed is 5 and the new list is [2, 3, 4, 6, 7, 8, 9, 0, 1]\n"
     ]
    }
   ],
   "source": [
    "def filterz(l,e):\n",
    "    res = []\n",
    "    for i in l:\n",
    "        if l[i] != e:\n",
    "            res.append(l[i])\n",
    "    return res\n",
    "\n",
    "\n",
    "\n",
    "\n",
    "l = [1,2,3,4,5,6,7,8,9,0]\n",
    "\n",
    "e = int(input('Enter the element to be removed : '))\n",
    "fl = filterz(l,e)\n",
    "print(f'Original List is {l}')\n",
    "print(f'Element removed is {e} and the new list is {fl}')"
   ]
  },
  {
   "cell_type": "code",
   "execution_count": null,
   "id": "f2d1b769-9610-490b-a727-89b8ebc75b1c",
   "metadata": {},
   "outputs": [],
   "source": []
  },
  {
   "cell_type": "code",
   "execution_count": null,
   "id": "8094ba47-b347-4281-b4b5-c88492a242d9",
   "metadata": {},
   "outputs": [],
   "source": []
  },
  {
   "cell_type": "code",
   "execution_count": 9,
   "id": "3dd33039-9137-450c-8916-c0df5cc6ffdf",
   "metadata": {},
   "outputs": [
    {
     "name": "stdout",
     "output_type": "stream",
     "text": [
      "The tables for 1 is : \n",
      "1 x 1 : 1\n",
      "1 x 2 : 2\n",
      "1 x 3 : 3\n",
      "1 x 4 : 4\n",
      "1 x 5 : 5\n",
      "1 x 6 : 6\n",
      "1 x 7 : 7\n",
      "1 x 8 : 8\n",
      "1 x 9 : 9\n",
      "1 x 10 : 10\n",
      "1 x 11 : 11\n",
      "1 x 12 : 12\n",
      "1 x 13 : 13\n",
      "1 x 14 : 14\n",
      "1 x 15 : 15\n",
      "1 x 16 : 16\n",
      "1 x 17 : 17\n",
      "1 x 18 : 18\n",
      "1 x 19 : 19\n",
      "1 x 20 : 20\n",
      "1 x 21 : 21\n",
      "1 x 22 : 22\n",
      "1 x 23 : 23\n",
      "1 x 24 : 24\n",
      "1 x 25 : 25\n",
      "1 x 26 : 26\n",
      "1 x 27 : 27\n",
      "1 x 28 : 28\n",
      "1 x 29 : 29\n",
      "1 x 30 : 30\n",
      "1 x 31 : 31\n",
      "1 x 32 : 32\n",
      "1 x 33 : 33\n",
      "1 x 34 : 34\n",
      "1 x 35 : 35\n",
      "1 x 36 : 36\n",
      "1 x 37 : 37\n",
      "1 x 38 : 38\n",
      "1 x 39 : 39\n",
      "1 x 40 : 40\n",
      "1 x 41 : 41\n",
      "1 x 42 : 42\n",
      "1 x 43 : 43\n",
      "1 x 44 : 44\n",
      "1 x 45 : 45\n",
      "1 x 46 : 46\n",
      "1 x 47 : 47\n",
      "1 x 48 : 48\n",
      "1 x 49 : 49\n",
      "1 x 50 : 50\n",
      "1 x 51 : 51\n",
      "1 x 52 : 52\n",
      "1 x 53 : 53\n",
      "1 x 54 : 54\n",
      "1 x 55 : 55\n",
      "1 x 56 : 56\n",
      "1 x 57 : 57\n",
      "1 x 58 : 58\n",
      "1 x 59 : 59\n",
      "1 x 60 : 60\n",
      "1 x 61 : 61\n",
      "1 x 62 : 62\n",
      "1 x 63 : 63\n",
      "1 x 64 : 64\n",
      "1 x 65 : 65\n",
      "1 x 66 : 66\n",
      "1 x 67 : 67\n",
      "1 x 68 : 68\n",
      "1 x 69 : 69\n",
      "1 x 70 : 70\n",
      "1 x 71 : 71\n",
      "1 x 72 : 72\n",
      "1 x 73 : 73\n",
      "1 x 74 : 74\n",
      "1 x 75 : 75\n",
      "1 x 76 : 76\n",
      "1 x 77 : 77\n",
      "1 x 78 : 78\n",
      "1 x 79 : 79\n",
      "1 x 80 : 80\n",
      "1 x 81 : 81\n",
      "1 x 82 : 82\n",
      "1 x 83 : 83\n",
      "1 x 84 : 84\n",
      "1 x 85 : 85\n",
      "1 x 86 : 86\n",
      "1 x 87 : 87\n",
      "1 x 88 : 88\n",
      "1 x 89 : 89\n",
      "1 x 90 : 90\n",
      "1 x 91 : 91\n",
      "1 x 92 : 92\n",
      "1 x 93 : 93\n",
      "1 x 94 : 94\n",
      "1 x 95 : 95\n",
      "1 x 96 : 96\n",
      "1 x 97 : 97\n",
      "1 x 98 : 98\n",
      "1 x 99 : 99\n",
      "1 x 100 : 100\n",
      "\n",
      "----------------------------------\n",
      "\n",
      "The tables for 2 is : \n",
      "2 x 1 : 2\n",
      "2 x 2 : 4\n",
      "2 x 3 : 6\n",
      "2 x 4 : 8\n",
      "2 x 5 : 10\n",
      "2 x 6 : 12\n",
      "2 x 7 : 14\n",
      "2 x 8 : 16\n",
      "2 x 9 : 18\n",
      "2 x 10 : 20\n",
      "2 x 11 : 22\n",
      "2 x 12 : 24\n",
      "2 x 13 : 26\n",
      "2 x 14 : 28\n",
      "2 x 15 : 30\n",
      "2 x 16 : 32\n",
      "2 x 17 : 34\n",
      "2 x 18 : 36\n",
      "2 x 19 : 38\n",
      "2 x 20 : 40\n",
      "2 x 21 : 42\n",
      "2 x 22 : 44\n",
      "2 x 23 : 46\n",
      "2 x 24 : 48\n",
      "2 x 25 : 50\n",
      "2 x 26 : 52\n",
      "2 x 27 : 54\n",
      "2 x 28 : 56\n",
      "2 x 29 : 58\n",
      "2 x 30 : 60\n",
      "2 x 31 : 62\n",
      "2 x 32 : 64\n",
      "2 x 33 : 66\n",
      "2 x 34 : 68\n",
      "2 x 35 : 70\n",
      "2 x 36 : 72\n",
      "2 x 37 : 74\n",
      "2 x 38 : 76\n",
      "2 x 39 : 78\n",
      "2 x 40 : 80\n",
      "2 x 41 : 82\n",
      "2 x 42 : 84\n",
      "2 x 43 : 86\n",
      "2 x 44 : 88\n",
      "2 x 45 : 90\n",
      "2 x 46 : 92\n",
      "2 x 47 : 94\n",
      "2 x 48 : 96\n",
      "2 x 49 : 98\n",
      "2 x 50 : 100\n",
      "2 x 51 : 102\n",
      "2 x 52 : 104\n",
      "2 x 53 : 106\n",
      "2 x 54 : 108\n",
      "2 x 55 : 110\n",
      "2 x 56 : 112\n",
      "2 x 57 : 114\n",
      "2 x 58 : 116\n",
      "2 x 59 : 118\n",
      "2 x 60 : 120\n",
      "2 x 61 : 122\n",
      "2 x 62 : 124\n",
      "2 x 63 : 126\n",
      "2 x 64 : 128\n",
      "2 x 65 : 130\n",
      "2 x 66 : 132\n",
      "2 x 67 : 134\n",
      "2 x 68 : 136\n",
      "2 x 69 : 138\n",
      "2 x 70 : 140\n",
      "2 x 71 : 142\n",
      "2 x 72 : 144\n",
      "2 x 73 : 146\n",
      "2 x 74 : 148\n",
      "2 x 75 : 150\n",
      "2 x 76 : 152\n",
      "2 x 77 : 154\n",
      "2 x 78 : 156\n",
      "2 x 79 : 158\n",
      "2 x 80 : 160\n",
      "2 x 81 : 162\n",
      "2 x 82 : 164\n",
      "2 x 83 : 166\n",
      "2 x 84 : 168\n",
      "2 x 85 : 170\n",
      "2 x 86 : 172\n",
      "2 x 87 : 174\n",
      "2 x 88 : 176\n",
      "2 x 89 : 178\n",
      "2 x 90 : 180\n",
      "2 x 91 : 182\n",
      "2 x 92 : 184\n",
      "2 x 93 : 186\n",
      "2 x 94 : 188\n",
      "2 x 95 : 190\n",
      "2 x 96 : 192\n",
      "2 x 97 : 194\n",
      "2 x 98 : 196\n",
      "2 x 99 : 198\n",
      "2 x 100 : 200\n",
      "\n",
      "----------------------------------\n",
      "\n",
      "The tables for 3 is : \n",
      "3 x 1 : 3\n",
      "3 x 2 : 6\n",
      "3 x 3 : 9\n",
      "3 x 4 : 12\n",
      "3 x 5 : 15\n",
      "3 x 6 : 18\n",
      "3 x 7 : 21\n",
      "3 x 8 : 24\n",
      "3 x 9 : 27\n",
      "3 x 10 : 30\n",
      "3 x 11 : 33\n",
      "3 x 12 : 36\n",
      "3 x 13 : 39\n",
      "3 x 14 : 42\n",
      "3 x 15 : 45\n",
      "3 x 16 : 48\n",
      "3 x 17 : 51\n",
      "3 x 18 : 54\n",
      "3 x 19 : 57\n",
      "3 x 20 : 60\n",
      "3 x 21 : 63\n",
      "3 x 22 : 66\n",
      "3 x 23 : 69\n",
      "3 x 24 : 72\n",
      "3 x 25 : 75\n",
      "3 x 26 : 78\n",
      "3 x 27 : 81\n",
      "3 x 28 : 84\n",
      "3 x 29 : 87\n",
      "3 x 30 : 90\n",
      "3 x 31 : 93\n",
      "3 x 32 : 96\n",
      "3 x 33 : 99\n",
      "3 x 34 : 102\n",
      "3 x 35 : 105\n",
      "3 x 36 : 108\n",
      "3 x 37 : 111\n",
      "3 x 38 : 114\n",
      "3 x 39 : 117\n",
      "3 x 40 : 120\n",
      "3 x 41 : 123\n",
      "3 x 42 : 126\n",
      "3 x 43 : 129\n",
      "3 x 44 : 132\n",
      "3 x 45 : 135\n",
      "3 x 46 : 138\n",
      "3 x 47 : 141\n",
      "3 x 48 : 144\n",
      "3 x 49 : 147\n",
      "3 x 50 : 150\n",
      "3 x 51 : 153\n",
      "3 x 52 : 156\n",
      "3 x 53 : 159\n",
      "3 x 54 : 162\n",
      "3 x 55 : 165\n",
      "3 x 56 : 168\n",
      "3 x 57 : 171\n",
      "3 x 58 : 174\n",
      "3 x 59 : 177\n",
      "3 x 60 : 180\n",
      "3 x 61 : 183\n",
      "3 x 62 : 186\n",
      "3 x 63 : 189\n",
      "3 x 64 : 192\n",
      "3 x 65 : 195\n",
      "3 x 66 : 198\n",
      "3 x 67 : 201\n",
      "3 x 68 : 204\n",
      "3 x 69 : 207\n",
      "3 x 70 : 210\n",
      "3 x 71 : 213\n",
      "3 x 72 : 216\n",
      "3 x 73 : 219\n",
      "3 x 74 : 222\n",
      "3 x 75 : 225\n",
      "3 x 76 : 228\n",
      "3 x 77 : 231\n",
      "3 x 78 : 234\n",
      "3 x 79 : 237\n",
      "3 x 80 : 240\n",
      "3 x 81 : 243\n",
      "3 x 82 : 246\n",
      "3 x 83 : 249\n",
      "3 x 84 : 252\n",
      "3 x 85 : 255\n",
      "3 x 86 : 258\n",
      "3 x 87 : 261\n",
      "3 x 88 : 264\n",
      "3 x 89 : 267\n",
      "3 x 90 : 270\n",
      "3 x 91 : 273\n",
      "3 x 92 : 276\n",
      "3 x 93 : 279\n",
      "3 x 94 : 282\n",
      "3 x 95 : 285\n",
      "3 x 96 : 288\n",
      "3 x 97 : 291\n",
      "3 x 98 : 294\n",
      "3 x 99 : 297\n",
      "3 x 100 : 300\n",
      "\n",
      "----------------------------------\n",
      "\n",
      "The tables for 4 is : \n",
      "4 x 1 : 4\n",
      "4 x 2 : 8\n",
      "4 x 3 : 12\n",
      "4 x 4 : 16\n",
      "4 x 5 : 20\n",
      "4 x 6 : 24\n",
      "4 x 7 : 28\n",
      "4 x 8 : 32\n",
      "4 x 9 : 36\n",
      "4 x 10 : 40\n",
      "4 x 11 : 44\n",
      "4 x 12 : 48\n",
      "4 x 13 : 52\n",
      "4 x 14 : 56\n",
      "4 x 15 : 60\n",
      "4 x 16 : 64\n",
      "4 x 17 : 68\n",
      "4 x 18 : 72\n",
      "4 x 19 : 76\n",
      "4 x 20 : 80\n",
      "4 x 21 : 84\n",
      "4 x 22 : 88\n",
      "4 x 23 : 92\n",
      "4 x 24 : 96\n",
      "4 x 25 : 100\n",
      "4 x 26 : 104\n",
      "4 x 27 : 108\n",
      "4 x 28 : 112\n",
      "4 x 29 : 116\n",
      "4 x 30 : 120\n",
      "4 x 31 : 124\n",
      "4 x 32 : 128\n",
      "4 x 33 : 132\n",
      "4 x 34 : 136\n",
      "4 x 35 : 140\n",
      "4 x 36 : 144\n",
      "4 x 37 : 148\n",
      "4 x 38 : 152\n",
      "4 x 39 : 156\n",
      "4 x 40 : 160\n",
      "4 x 41 : 164\n",
      "4 x 42 : 168\n",
      "4 x 43 : 172\n",
      "4 x 44 : 176\n",
      "4 x 45 : 180\n",
      "4 x 46 : 184\n",
      "4 x 47 : 188\n",
      "4 x 48 : 192\n",
      "4 x 49 : 196\n",
      "4 x 50 : 200\n",
      "4 x 51 : 204\n",
      "4 x 52 : 208\n",
      "4 x 53 : 212\n",
      "4 x 54 : 216\n",
      "4 x 55 : 220\n",
      "4 x 56 : 224\n",
      "4 x 57 : 228\n",
      "4 x 58 : 232\n",
      "4 x 59 : 236\n",
      "4 x 60 : 240\n",
      "4 x 61 : 244\n",
      "4 x 62 : 248\n",
      "4 x 63 : 252\n",
      "4 x 64 : 256\n",
      "4 x 65 : 260\n",
      "4 x 66 : 264\n",
      "4 x 67 : 268\n",
      "4 x 68 : 272\n",
      "4 x 69 : 276\n",
      "4 x 70 : 280\n",
      "4 x 71 : 284\n",
      "4 x 72 : 288\n",
      "4 x 73 : 292\n",
      "4 x 74 : 296\n",
      "4 x 75 : 300\n",
      "4 x 76 : 304\n",
      "4 x 77 : 308\n",
      "4 x 78 : 312\n",
      "4 x 79 : 316\n",
      "4 x 80 : 320\n",
      "4 x 81 : 324\n",
      "4 x 82 : 328\n",
      "4 x 83 : 332\n",
      "4 x 84 : 336\n",
      "4 x 85 : 340\n",
      "4 x 86 : 344\n",
      "4 x 87 : 348\n",
      "4 x 88 : 352\n",
      "4 x 89 : 356\n",
      "4 x 90 : 360\n",
      "4 x 91 : 364\n",
      "4 x 92 : 368\n",
      "4 x 93 : 372\n",
      "4 x 94 : 376\n",
      "4 x 95 : 380\n",
      "4 x 96 : 384\n",
      "4 x 97 : 388\n",
      "4 x 98 : 392\n",
      "4 x 99 : 396\n",
      "4 x 100 : 400\n",
      "\n",
      "----------------------------------\n",
      "\n",
      "The tables for 5 is : \n",
      "5 x 1 : 5\n",
      "5 x 2 : 10\n",
      "5 x 3 : 15\n",
      "5 x 4 : 20\n",
      "5 x 5 : 25\n",
      "5 x 6 : 30\n",
      "5 x 7 : 35\n",
      "5 x 8 : 40\n",
      "5 x 9 : 45\n",
      "5 x 10 : 50\n",
      "5 x 11 : 55\n",
      "5 x 12 : 60\n",
      "5 x 13 : 65\n",
      "5 x 14 : 70\n",
      "5 x 15 : 75\n",
      "5 x 16 : 80\n",
      "5 x 17 : 85\n",
      "5 x 18 : 90\n",
      "5 x 19 : 95\n",
      "5 x 20 : 100\n",
      "5 x 21 : 105\n",
      "5 x 22 : 110\n",
      "5 x 23 : 115\n",
      "5 x 24 : 120\n",
      "5 x 25 : 125\n",
      "5 x 26 : 130\n",
      "5 x 27 : 135\n",
      "5 x 28 : 140\n",
      "5 x 29 : 145\n",
      "5 x 30 : 150\n",
      "5 x 31 : 155\n",
      "5 x 32 : 160\n",
      "5 x 33 : 165\n",
      "5 x 34 : 170\n",
      "5 x 35 : 175\n",
      "5 x 36 : 180\n",
      "5 x 37 : 185\n",
      "5 x 38 : 190\n",
      "5 x 39 : 195\n",
      "5 x 40 : 200\n",
      "5 x 41 : 205\n",
      "5 x 42 : 210\n",
      "5 x 43 : 215\n",
      "5 x 44 : 220\n",
      "5 x 45 : 225\n",
      "5 x 46 : 230\n",
      "5 x 47 : 235\n",
      "5 x 48 : 240\n",
      "5 x 49 : 245\n",
      "5 x 50 : 250\n",
      "5 x 51 : 255\n",
      "5 x 52 : 260\n",
      "5 x 53 : 265\n",
      "5 x 54 : 270\n",
      "5 x 55 : 275\n",
      "5 x 56 : 280\n",
      "5 x 57 : 285\n",
      "5 x 58 : 290\n",
      "5 x 59 : 295\n",
      "5 x 60 : 300\n",
      "5 x 61 : 305\n",
      "5 x 62 : 310\n",
      "5 x 63 : 315\n",
      "5 x 64 : 320\n",
      "5 x 65 : 325\n",
      "5 x 66 : 330\n",
      "5 x 67 : 335\n",
      "5 x 68 : 340\n",
      "5 x 69 : 345\n",
      "5 x 70 : 350\n",
      "5 x 71 : 355\n",
      "5 x 72 : 360\n",
      "5 x 73 : 365\n",
      "5 x 74 : 370\n",
      "5 x 75 : 375\n",
      "5 x 76 : 380\n",
      "5 x 77 : 385\n",
      "5 x 78 : 390\n",
      "5 x 79 : 395\n",
      "5 x 80 : 400\n",
      "5 x 81 : 405\n",
      "5 x 82 : 410\n",
      "5 x 83 : 415\n",
      "5 x 84 : 420\n",
      "5 x 85 : 425\n",
      "5 x 86 : 430\n",
      "5 x 87 : 435\n",
      "5 x 88 : 440\n",
      "5 x 89 : 445\n",
      "5 x 90 : 450\n",
      "5 x 91 : 455\n",
      "5 x 92 : 460\n",
      "5 x 93 : 465\n",
      "5 x 94 : 470\n",
      "5 x 95 : 475\n",
      "5 x 96 : 480\n",
      "5 x 97 : 485\n",
      "5 x 98 : 490\n",
      "5 x 99 : 495\n",
      "5 x 100 : 500\n",
      "\n",
      "----------------------------------\n",
      "\n"
     ]
    }
   ],
   "source": [
    "for i in range(1,6):\n",
    "    print(f'The tables for {i} is : ')\n",
    "    for j in range(1,101):\n",
    "        print(f'{i} x {j} : {i*j}')\n",
    "        \n",
    "    print()\n",
    "    print('----------------------------------')\n",
    "    print()\n",
    "    "
   ]
  },
  {
   "cell_type": "code",
   "execution_count": null,
   "id": "fba158e8-4071-4246-ba20-594a75535e5a",
   "metadata": {},
   "outputs": [],
   "source": []
  },
  {
   "cell_type": "code",
   "execution_count": null,
   "id": "d9b81580-fd63-40f2-bd82-6547c9d20096",
   "metadata": {},
   "outputs": [],
   "source": []
  },
  {
   "cell_type": "code",
   "execution_count": 4,
   "id": "d021daa3-175f-436e-a335-869fe5a55f21",
   "metadata": {},
   "outputs": [
    {
     "name": "stdin",
     "output_type": "stream",
     "text": [
      "Enter the temperatures in fahrenheit and separate them using \",\" :  89,70,69,56,40\n"
     ]
    },
    {
     "name": "stdout",
     "output_type": "stream",
     "text": [
      "The list of temperatures in Fahrenheit is [89.0, 70.0, 69.0, 56.0, 40.0] and in Celcius is [31.666666666666668, 21.11111111111111, 20.555555555555557, 13.333333333333334, 4.444444444444445]\n"
     ]
    }
   ],
   "source": [
    "def fahtocel(fahrenheitic):\n",
    "    cel  = []\n",
    "    c = 0.0\n",
    "    for i in fahrenheitic:\n",
    "        c = (((i - 32)*5)/9)\n",
    "        cel.append(c)\n",
    "        \n",
    "    return cel\n",
    "\n",
    "s = input('Enter the temperatures in fahrenheit and separate them using \",\" : ').split(',')\n",
    "fahrenheitic = [float(x) for x in s]\n",
    "\n",
    "cel = fahtocel(fahrenheitic)\n",
    "print(f'The list of temperatures in Fahrenheit is {fahrenheitic} and in Celcius is {cel}')"
   ]
  },
  {
   "cell_type": "code",
   "execution_count": null,
   "id": "fc6bb667-ed5f-4112-880c-793bd4e0aba4",
   "metadata": {},
   "outputs": [],
   "source": [
    "\n"
   ]
  },
  {
   "cell_type": "code",
   "execution_count": null,
   "id": "3b14ffd0-81ab-49a8-99ea-0c03249ce1b6",
   "metadata": {},
   "outputs": [],
   "source": []
  },
  {
   "cell_type": "code",
   "execution_count": 14,
   "id": "7c4c2654-c782-4d80-bc08-f5efcbaffee9",
   "metadata": {},
   "outputs": [
    {
     "name": "stdin",
     "output_type": "stream",
     "text": [
      "Enter the elements of the first list and separate each element using \",\" : 1,2,3,4,5,6,7,8,9,10\n",
      "Enter the elements of the second list and separate each element using \",\" :  2,4,6,8,10,12,14,16,18,20\n"
     ]
    },
    {
     "name": "stdout",
     "output_type": "stream",
     "text": [
      "Common elements are shared by the two lists :  [2, 4, 6, 8, 10]\n"
     ]
    }
   ],
   "source": [
    "def checkforcommon(l1,l2):\n",
    "    c = []\n",
    "    che = False\n",
    "    for i in range(len(l1)):\n",
    "        for j in range(len(l2)):\n",
    "            if l2[j] == l1[i]:\n",
    "                che = True \n",
    "                c.append(l2[j])\n",
    "    return c\n",
    "\n",
    "\n",
    "\n",
    "\n",
    "\n",
    "s1 = input('Enter the elements of the first list and separate each element using \",\" :').split(',')\n",
    "s2 = input('Enter the elements of the second list and separate each element using \",\" : ').split(',')\n",
    "l1 = [int(i) for i in s1]\n",
    "l2 = [int(i) for i in s2]\n",
    "\n",
    "\n",
    "c = checkforcommon(l1, l2)\n",
    "\n",
    "if c :\n",
    "    print('Common elements are shared by the two lists : ', c)\n",
    "else:\n",
    "    print('Common elements are not shared by the two lists.')"
   ]
  },
  {
   "cell_type": "code",
   "execution_count": null,
   "id": "5cf93ec9-1c24-42dc-932c-928e36c5a9e9",
   "metadata": {},
   "outputs": [],
   "source": []
  },
  {
   "cell_type": "code",
   "execution_count": null,
   "id": "ff4acb80-9c0e-4fef-b65f-cc400ad7e4c9",
   "metadata": {},
   "outputs": [],
   "source": []
  },
  {
   "cell_type": "code",
   "execution_count": 17,
   "id": "59426dc7-7c14-4f9f-8ef3-5c28e83eec02",
   "metadata": {},
   "outputs": [
    {
     "name": "stdout",
     "output_type": "stream",
     "text": [
      "*\n",
      "**\n",
      "***\n",
      "****\n",
      "*****\n",
      "******\n",
      "*******\n",
      "********\n",
      "*********\n",
      "\n"
     ]
    }
   ],
   "source": [
    "for i in range(1,10):\n",
    "        print('*'*i)\n",
    "print()"
   ]
  },
  {
   "cell_type": "code",
   "execution_count": 20,
   "id": "cb860ab5-b6d1-4d95-9e5e-400d34535af5",
   "metadata": {},
   "outputs": [
    {
     "name": "stdin",
     "output_type": "stream",
     "text": [
      "Enter the first number :  44\n",
      "Enter the second number :  66\n"
     ]
    },
    {
     "name": "stdout",
     "output_type": "stream",
     "text": [
      "The Greatest Common Divisor between the two numbers is :  22\n"
     ]
    }
   ],
   "source": [
    "def gcdcount(i1,i2):\n",
    "    small = 0\n",
    "    if i1>i2:\n",
    "        small = i2\n",
    "    else :\n",
    "        small = i1\n",
    "        \n",
    "    gcd = 1\n",
    "    \n",
    "    for i in range(1, small + 1):\n",
    "        if i1%i==0 and i2%i==0:\n",
    "            gcd = i\n",
    "            \n",
    "    return gcd\n",
    "\n",
    "\n",
    "\n",
    "\n",
    "i1 = int(input('Enter the first number : '))\n",
    "i2 = int(input('Enter the second number : '))\n",
    "\n",
    "gcd = gcdcount(i1,i2)\n",
    "\n",
    "if gcd :\n",
    "    print('The Greatest Common Divisor between the two numbers is : ', gcd)\n",
    "    \n",
    "else :\n",
    "    print('No common divisor present between the two numbers.')"
   ]
  },
  {
   "cell_type": "code",
   "execution_count": null,
   "id": "3be9a924-ec92-414c-94be-73cf0b37e5e2",
   "metadata": {},
   "outputs": [],
   "source": []
  },
  {
   "cell_type": "code",
   "execution_count": null,
   "id": "ffdc4b4c-d521-44e6-97f8-88864a42df22",
   "metadata": {},
   "outputs": [],
   "source": []
  },
  {
   "cell_type": "code",
   "execution_count": 22,
   "id": "2faed9ab-0c34-4ff1-81b2-f6f260f87222",
   "metadata": {},
   "outputs": [
    {
     "name": "stdin",
     "output_type": "stream",
     "text": [
      "Enter the numbers of the list and separate them using \",\" :  234, 546, 788, 990, 669\n"
     ]
    },
    {
     "name": "stdout",
     "output_type": "stream",
     "text": [
      "The sum of digits for each number :- \n",
      "Sum of digits of 234 : 9\n",
      "Sum of digits of 546 : 15\n",
      "Sum of digits of 788 : 23\n",
      "Sum of digits of 990 : 18\n",
      "Sum of digits of 669 : 21\n"
     ]
    }
   ],
   "source": [
    "def sumdigit(x):\n",
    "    return sum(int(d) for d in str(x))\n",
    "\n",
    "\n",
    "\n",
    "\n",
    "s = input('Enter the numbers of the list and separate them using \",\" : ').split(',')\n",
    "l = [int(i) for i in s]\n",
    "digitsum = [sumdigit(x) for x in l]\n",
    "print('The sum of digits for each number :- ')\n",
    "for i in range(len(l)):\n",
    "    print(f'Sum of digits of {l[i]} : {digitsum[i]}')"
   ]
  },
  {
   "cell_type": "code",
   "execution_count": null,
   "id": "1949ff75-590e-4056-b094-59fbb0a4e43e",
   "metadata": {},
   "outputs": [],
   "source": []
  },
  {
   "cell_type": "code",
   "execution_count": null,
   "id": "b3e6e137-bca5-4cb5-abd4-9f56b5f5c15f",
   "metadata": {},
   "outputs": [],
   "source": []
  },
  {
   "cell_type": "code",
   "execution_count": 26,
   "id": "bbcda493-01ae-44a1-9e15-83ef72f3d90c",
   "metadata": {},
   "outputs": [
    {
     "name": "stdin",
     "output_type": "stream",
     "text": [
      "Enter the number of the choice of the user :  74\n"
     ]
    },
    {
     "name": "stdout",
     "output_type": "stream",
     "text": [
      "The prime factors for 74 are : [2, 37]\n"
     ]
    }
   ],
   "source": [
    "def getfactors(n):\n",
    "    fact = []\n",
    "    for i in range(2,n+1):\n",
    "        while n%i == 0:\n",
    "            fact.append(i)\n",
    "            n //=i\n",
    "    return fact\n",
    "            \n",
    "\n",
    "\n",
    "\n",
    "\n",
    "\n",
    "n = int(input('Enter the number of the choice of the user : '))\n",
    "\n",
    "fact = getfactors(n)\n",
    "\n",
    "print(f'The prime factors for {n} are : {fact}')"
   ]
  },
  {
   "cell_type": "code",
   "execution_count": null,
   "id": "c7f5cee2-4299-4beb-bbb9-9047df64545d",
   "metadata": {},
   "outputs": [],
   "source": []
  },
  {
   "cell_type": "code",
   "execution_count": null,
   "id": "4d230ade-1675-4f34-81d8-2c045ab923ad",
   "metadata": {},
   "outputs": [],
   "source": []
  },
  {
   "cell_type": "code",
   "execution_count": 28,
   "id": "5769870e-7c3f-4160-aba4-c7631896aa40",
   "metadata": {},
   "outputs": [
    {
     "name": "stdin",
     "output_type": "stream",
     "text": [
      "Enter the elements of the list and separate them using \",\" :  1,1,2,3,3,3,3,5,6,6,6,7,8,8,8,7\n"
     ]
    },
    {
     "name": "stdout",
     "output_type": "stream",
     "text": [
      "The unique elements present in [1, 1, 2, 3, 3, 3, 3, 5, 6, 6, 6, 7, 8, 8, 8, 7] are : [2, 5]\n"
     ]
    }
   ],
   "source": [
    "def unq(l):\n",
    "    lx = []\n",
    "    for i in range(len(l)):\n",
    "        if l.count(i)==1:\n",
    "            lx.append(i)\n",
    "    return lx\n",
    "    \n",
    "\n",
    "\n",
    "\n",
    "\n",
    "s = input('Enter the elements of the list and separate them using \",\" : ').split(',')\n",
    "l = [int(i) for i in s]\n",
    "\n",
    "lx = unq(l)\n",
    "\n",
    "if lx:\n",
    "    print(f'The unique elements present in {l} are : {lx}')"
   ]
  },
  {
   "cell_type": "code",
   "execution_count": null,
   "id": "8d44d3e3-50f0-485f-bd8c-68f6be79bd9d",
   "metadata": {},
   "outputs": [],
   "source": [
    "\n"
   ]
  },
  {
   "cell_type": "code",
   "execution_count": null,
   "id": "a712088d-ee43-453b-9661-19dd9a02cd78",
   "metadata": {},
   "outputs": [],
   "source": []
  },
  {
   "cell_type": "code",
   "execution_count": 36,
   "id": "f3c4bf0a-2aee-4e5f-b3eb-bb45aff2e0ad",
   "metadata": {},
   "outputs": [
    {
     "name": "stdin",
     "output_type": "stream",
     "text": [
      "Enter the Upper Limit :  40\n"
     ]
    },
    {
     "name": "stdout",
     "output_type": "stream",
     "text": [
      "The list of palindromic numbers under the specified limit 40 is [1, 2, 3, 4, 5, 6, 7, 8, 9, 11, 22, 33]\n"
     ]
    }
   ],
   "source": [
    "def ispal(n):\n",
    "     return str(n) == str(n)[::-1]\n",
    "        \n",
    "\n",
    "\n",
    "l = int(input('Enter the Upper Limit : '))\n",
    "paldrin = [n for n in range(1,l+1) if ispal(n)]\n",
    "print(f'The list of palindromic numbers under the specified limit {l} is {paldrin}')"
   ]
  },
  {
   "cell_type": "code",
   "execution_count": null,
   "id": "f9075f23-de69-4658-88aa-4f3b764d5262",
   "metadata": {},
   "outputs": [],
   "source": []
  },
  {
   "cell_type": "code",
   "execution_count": null,
   "id": "0b917534-e619-479e-818d-99eafb2a1b54",
   "metadata": {},
   "outputs": [],
   "source": []
  },
  {
   "cell_type": "code",
   "execution_count": 1,
   "id": "56a15fc6-7fd3-4fea-af75-e1ffd51397fb",
   "metadata": {},
   "outputs": [
    {
     "name": "stdout",
     "output_type": "stream",
     "text": [
      "Given list :  [[1, 2, 3], [4, 5, 6, 7, 8], [9, 10]]\n",
      "Flattened list :  [1, 2, 3, 4, 5, 6, 7, 8, 9, 10]\n"
     ]
    }
   ],
   "source": [
    "def lflat(l):\n",
    "    return [x for s in l for x in s]\n",
    "\n",
    "\n",
    "l1 = [[1,2,3],[4,5,6,7,8],[9,10]]\n",
    "\n",
    "l2 = lflat(l1)\n",
    "\n",
    "print('Given list : ', l1)\n",
    "print('Flattened list : ', l2)"
   ]
  },
  {
   "cell_type": "code",
   "execution_count": null,
   "id": "070592ba-862a-4f60-818f-9a4cfb80c5d3",
   "metadata": {},
   "outputs": [],
   "source": []
  },
  {
   "cell_type": "code",
   "execution_count": null,
   "id": "3f63f680-6834-416a-9e47-a1e411e53049",
   "metadata": {},
   "outputs": [],
   "source": []
  },
  {
   "cell_type": "code",
   "execution_count": 2,
   "id": "052d6c09-7ba9-49d7-b3cd-03b47af750dd",
   "metadata": {},
   "outputs": [
    {
     "name": "stdin",
     "output_type": "stream",
     "text": [
      "Enter the elements of the list using \",\" as a separator :  1,2,3,4,5,6,7,8,9,10,11,12,13,14,15,16,17,18,19,20\n"
     ]
    },
    {
     "name": "stdout",
     "output_type": "stream",
     "text": [
      "Sum of even numbers :  110\n",
      "Sum of odd numbers :  100\n"
     ]
    }
   ],
   "source": [
    "def checkeve(l):\n",
    "    e1 = [i for i in l if i%2==0]\n",
    "    summation = sum(e1)\n",
    "    return summation\n",
    "\n",
    "def checkodd(l):\n",
    "    o1 = [i for i in l if i%2!=0]\n",
    "    summation = sum(o1)\n",
    "    return summation\n",
    "\n",
    "\n",
    "s = input('Enter the elements of the list using \",\" as a separator : ').split(',')\n",
    "l = [int(x) for x in s]\n",
    "\n",
    "eve1 = checkeve(l)\n",
    "odd1 = checkodd(l)\n",
    "\n",
    "print('Sum of even numbers : ', eve1)\n",
    "print('Sum of odd numbers : ', odd1)"
   ]
  },
  {
   "cell_type": "code",
   "execution_count": null,
   "id": "826c1ed7-8314-48d0-a73c-038e1e6d9362",
   "metadata": {},
   "outputs": [],
   "source": []
  },
  {
   "cell_type": "code",
   "execution_count": null,
   "id": "cd7c8f0e-3a2a-4c13-a221-43f44396c839",
   "metadata": {},
   "outputs": [],
   "source": []
  },
  {
   "cell_type": "code",
   "execution_count": 5,
   "id": "503b4dcf-af03-4549-a19a-e82e2b2113c8",
   "metadata": {},
   "outputs": [
    {
     "name": "stdout",
     "output_type": "stream",
     "text": [
      "The list of squares of odd numbers is :  [1, 9, 25, 49, 81]\n"
     ]
    }
   ],
   "source": [
    "def squaresofodd(l):\n",
    "    x =[]\n",
    "    for i in range(len(l)):\n",
    "        a = l[i]*l[i]\n",
    "        x.append(a)\n",
    "    return x\n",
    "\n",
    "        \n",
    "        \n",
    "l = []\n",
    "for i in range(1,11):\n",
    "    if i%2!=0:\n",
    "        l.append(i)\n",
    "        \n",
    "sqodd = squaresofodd(l)\n",
    "\n",
    "print('The list of squares of odd numbers is : ', sqodd)"
   ]
  },
  {
   "cell_type": "code",
   "execution_count": null,
   "id": "ab993a37-fab7-45c9-99dc-8654864f6adc",
   "metadata": {},
   "outputs": [],
   "source": []
  },
  {
   "cell_type": "code",
   "execution_count": null,
   "id": "9199a905-da72-423f-a587-96521cc2c2f0",
   "metadata": {},
   "outputs": [],
   "source": []
  },
  {
   "cell_type": "code",
   "execution_count": 6,
   "id": "5cf5c0db-c97b-498d-a1e3-1d39c6e3ac75",
   "metadata": {},
   "outputs": [
    {
     "name": "stdout",
     "output_type": "stream",
     "text": [
      "{'red': '#0001', 'blue': '#0002', 'yellow': '#0003'}\n"
     ]
    }
   ],
   "source": [
    "keys = ['red','blue','yellow']\n",
    "value = ['#0001','#0002', '#0003']\n",
    "\n",
    "dic = {keys[i] : value[i] for i in range(len(keys))}\n",
    "\n",
    "print(dic)\n",
    "       \n",
    "\n"
   ]
  },
  {
   "cell_type": "code",
   "execution_count": null,
   "id": "23c93e8a-64c8-4ae9-bb23-7e82c77d5619",
   "metadata": {},
   "outputs": [],
   "source": []
  },
  {
   "cell_type": "code",
   "execution_count": null,
   "id": "e25c1fda-5ea2-4b60-b645-a18c695cfbbc",
   "metadata": {},
   "outputs": [],
   "source": []
  },
  {
   "cell_type": "code",
   "execution_count": 7,
   "id": "1d41f085-0dd8-4f56-963d-13c38673f2d1",
   "metadata": {},
   "outputs": [
    {
     "name": "stdin",
     "output_type": "stream",
     "text": [
      "Enter the sentence of your choice :  Hello my name is Anthony Gonsalvez\n"
     ]
    },
    {
     "name": "stdout",
     "output_type": "stream",
     "text": [
      "The list containing vowels extracted from the string :  ['e', 'o', 'a', 'e', 'i', 'A', 'o', 'o', 'a', 'e']\n"
     ]
    }
   ],
   "source": [
    "def vins(s):\n",
    "    x = []\n",
    "    vowels = 'aeiouAEIOU'\n",
    "    for char in s:\n",
    "        if char in vowels:\n",
    "            x.append(char)\n",
    "            \n",
    "    return x\n",
    "\n",
    "\n",
    "\n",
    "s = input('Enter the sentence of your choice : ')\n",
    "x = vins(s)\n",
    "print('The list containing vowels extracted from the string : ', x)"
   ]
  },
  {
   "cell_type": "code",
   "execution_count": null,
   "id": "fc9120ad-aa28-4e85-986c-c18c2c461644",
   "metadata": {},
   "outputs": [],
   "source": []
  },
  {
   "cell_type": "code",
   "execution_count": null,
   "id": "efb6de8c-ffa1-4ffe-8e53-a997ab1a80bd",
   "metadata": {},
   "outputs": [],
   "source": []
  },
  {
   "cell_type": "code",
   "execution_count": 10,
   "id": "d4cfa32d-dd92-4654-84fc-7b7ca5232b17",
   "metadata": {},
   "outputs": [
    {
     "name": "stdin",
     "output_type": "stream",
     "text": [
      "Enter the strings as individual elements for the list and separate them using \",\" :  Aieo89, Ke3345, #@15899\n"
     ]
    },
    {
     "name": "stdout",
     "output_type": "stream",
     "text": [
      "The new modified list is :  ['8,9', '3,3,4,5', '1,5,8,9,9']\n"
     ]
    }
   ],
   "source": [
    "def modifylist(l):\n",
    "    cl = [','.join(char for char in x if char.isnumeric()) for x in l]\n",
    "    return cl\n",
    "\n",
    "\n",
    "s = input('Enter the strings as individual elements for the list and separate them using \",\" : ').split(',')\n",
    "l = [x for x in s]\n",
    "cl = modifylist(l)\n",
    "print('The new modified list is : ', cl)"
   ]
  },
  {
   "cell_type": "code",
   "execution_count": null,
   "id": "70c6f404-93cc-4fbd-8cad-884682e09cff",
   "metadata": {},
   "outputs": [],
   "source": []
  },
  {
   "cell_type": "code",
   "execution_count": null,
   "id": "5b5ba2dd-20a6-43ca-a635-dae88c9a0be3",
   "metadata": {},
   "outputs": [],
   "source": []
  },
  {
   "cell_type": "code",
   "execution_count": 18,
   "id": "19b41c0d-d719-4712-945b-f56f2c3840f5",
   "metadata": {},
   "outputs": [
    {
     "name": "stdin",
     "output_type": "stream",
     "text": [
      "Enter the upper limit :  500\n"
     ]
    },
    {
     "name": "stdout",
     "output_type": "stream",
     "text": [
      "Prime numbers using Sieve of Eratosthenes algorithm are : [2, 3, 5, 7, 11, 13, 17, 19, 23, 29, 31, 37, 41, 43, 47, 53, 59, 61, 67, 71, 73, 79, 83, 89, 97, 101, 103, 107, 109, 113, 127, 131, 137, 139, 149, 151, 157, 163, 167, 173, 179, 181, 191, 193, 197, 199, 211, 223, 227, 229, 233, 239, 241, 251, 257, 263, 269, 271, 277, 281, 283, 293, 307, 311, 313, 317, 331, 337, 347, 349, 353, 359, 367, 373, 379, 383, 389, 397, 401, 409, 419, 421, 431, 433, 439, 443, 449, 457, 461, 463, 467, 479, 487, 491, 499]\n"
     ]
    }
   ],
   "source": [
    "def sxu(ul):\n",
    "    prime1 = [True]*(ul+1)\n",
    "    prime1[0] = prime1[1] = False\n",
    "    \n",
    "    a=2\n",
    "    while a*a <= ul :\n",
    "        if prime1[a] :\n",
    "            for i in range(a * a,ul + 1, a):\n",
    "                prime1[i] = False\n",
    "        a = a + 1\n",
    "        \n",
    "    \n",
    "    primenumbers = [x for x in range(2,ul+1) if prime1[x]]\n",
    "    return primenumbers\n",
    "      \n",
    "\n",
    "\n",
    "\n",
    "\n",
    "ul = int(input('Enter the upper limit : '))\n",
    "pn = sxu(ul)\n",
    "print(f'Prime numbers using Sieve of Eratosthenes algorithm are : {pn}')"
   ]
  },
  {
   "cell_type": "code",
   "execution_count": null,
   "id": "d69c36ae-6daf-4f04-9fa9-8d99b36ed655",
   "metadata": {},
   "outputs": [],
   "source": []
  },
  {
   "cell_type": "code",
   "execution_count": null,
   "id": "99a6511c-9a63-4483-8a41-4f57fbef1c50",
   "metadata": {},
   "outputs": [],
   "source": []
  },
  {
   "cell_type": "code",
   "execution_count": 2,
   "id": "4b95e3c4-0a68-4131-99a0-60544bd6909e",
   "metadata": {},
   "outputs": [
    {
     "name": "stdin",
     "output_type": "stream",
     "text": [
      "Enter the upper limit of the pyhtagorean triplets :  20\n"
     ]
    },
    {
     "name": "stdout",
     "output_type": "stream",
     "text": [
      "The pythagorean triplets for the limit 20 is : \n",
      "(3, 4, 5)\n",
      "(5, 12, 13)\n",
      "(6, 8, 10)\n",
      "(8, 15, 17)\n",
      "(9, 12, 15)\n",
      "(12, 16, 20)\n"
     ]
    }
   ],
   "source": [
    "def checkpy(t):\n",
    "    trip = []\n",
    "    for a in range(1, l+1):\n",
    "        for b in range(a, l+1):\n",
    "            for c in range(b, l+1):\n",
    "                if (a**2)+(b**2)==(c**2):\n",
    "                    trip.append((a,b,c))\n",
    "    return trip\n",
    "\n",
    "\n",
    "\n",
    "\n",
    "l = int(input('Enter the upper limit of the pyhtagorean triplets : '))\n",
    "\n",
    "trip = checkpy(l)\n",
    "\n",
    "print(f'The pythagorean triplets for the limit {l} is : ')\n",
    "for t in trip:\n",
    "    print(t)"
   ]
  },
  {
   "cell_type": "code",
   "execution_count": null,
   "id": "b5f52ce1-61e2-40af-b2fc-d7b369d11a85",
   "metadata": {},
   "outputs": [],
   "source": []
  },
  {
   "cell_type": "code",
   "execution_count": null,
   "id": "f63c1d98-5325-454d-a14e-fc844224d5e7",
   "metadata": {},
   "outputs": [],
   "source": []
  },
  {
   "cell_type": "code",
   "execution_count": 3,
   "id": "477a05bc-45b1-4a87-9081-758b7a1bafd9",
   "metadata": {},
   "outputs": [
    {
     "name": "stdin",
     "output_type": "stream",
     "text": [
      "Enter the elements of the first list separated by \",\" :  1,2,3,4,5,6,7,8,9,10\n",
      "Enter the elements of the second list separated by \",\" :  11,12,13,14,15,16,17,18,19,20\n"
     ]
    },
    {
     "name": "stdout",
     "output_type": "stream",
     "text": [
      "The list of all possible combinations are : \n",
      "(1, 1)\n",
      "(1, 2)\n",
      "(1, 3)\n",
      "(1, 4)\n",
      "(1, 5)\n",
      "(1, 6)\n",
      "(1, 7)\n",
      "(1, 8)\n",
      "(1, 9)\n",
      "(1, 10)\n",
      "(2, 1)\n",
      "(2, 2)\n",
      "(2, 3)\n",
      "(2, 4)\n",
      "(2, 5)\n",
      "(2, 6)\n",
      "(2, 7)\n",
      "(2, 8)\n",
      "(2, 9)\n",
      "(2, 10)\n",
      "(3, 1)\n",
      "(3, 2)\n",
      "(3, 3)\n",
      "(3, 4)\n",
      "(3, 5)\n",
      "(3, 6)\n",
      "(3, 7)\n",
      "(3, 8)\n",
      "(3, 9)\n",
      "(3, 10)\n",
      "(4, 1)\n",
      "(4, 2)\n",
      "(4, 3)\n",
      "(4, 4)\n",
      "(4, 5)\n",
      "(4, 6)\n",
      "(4, 7)\n",
      "(4, 8)\n",
      "(4, 9)\n",
      "(4, 10)\n",
      "(5, 1)\n",
      "(5, 2)\n",
      "(5, 3)\n",
      "(5, 4)\n",
      "(5, 5)\n",
      "(5, 6)\n",
      "(5, 7)\n",
      "(5, 8)\n",
      "(5, 9)\n",
      "(5, 10)\n",
      "(6, 1)\n",
      "(6, 2)\n",
      "(6, 3)\n",
      "(6, 4)\n",
      "(6, 5)\n",
      "(6, 6)\n",
      "(6, 7)\n",
      "(6, 8)\n",
      "(6, 9)\n",
      "(6, 10)\n",
      "(7, 1)\n",
      "(7, 2)\n",
      "(7, 3)\n",
      "(7, 4)\n",
      "(7, 5)\n",
      "(7, 6)\n",
      "(7, 7)\n",
      "(7, 8)\n",
      "(7, 9)\n",
      "(7, 10)\n",
      "(8, 1)\n",
      "(8, 2)\n",
      "(8, 3)\n",
      "(8, 4)\n",
      "(8, 5)\n",
      "(8, 6)\n",
      "(8, 7)\n",
      "(8, 8)\n",
      "(8, 9)\n",
      "(8, 10)\n",
      "(9, 1)\n",
      "(9, 2)\n",
      "(9, 3)\n",
      "(9, 4)\n",
      "(9, 5)\n",
      "(9, 6)\n",
      "(9, 7)\n",
      "(9, 8)\n",
      "(9, 9)\n",
      "(9, 10)\n",
      "(10, 1)\n",
      "(10, 2)\n",
      "(10, 3)\n",
      "(10, 4)\n",
      "(10, 5)\n",
      "(10, 6)\n",
      "(10, 7)\n",
      "(10, 8)\n",
      "(10, 9)\n",
      "(10, 10)\n"
     ]
    }
   ],
   "source": [
    "import itertools\n",
    "\n",
    "\n",
    "def getcombinations(l1,l2):\n",
    "    comb = [(x,y) for x in l1 for y in l2]\n",
    "    return comb\n",
    "\n",
    "s1 = input('Enter the elements of the first list separated by \",\" : ').split(',')\n",
    "l1 = [int(x) for x in s1]\n",
    "s2 = input('Enter the elements of the second list separated by \",\" : ').split(',')\n",
    "l2 = [int(x) for x in s1]\n",
    "\n",
    "comb = getcombinations(l1,l2)\n",
    "\n",
    "print('The list of all possible combinations are : ')\n",
    "for c in comb:\n",
    "    print(c)\n",
    "\n"
   ]
  },
  {
   "cell_type": "code",
   "execution_count": null,
   "id": "2eb201fc-efa5-49a7-824b-9c2617952627",
   "metadata": {},
   "outputs": [],
   "source": []
  },
  {
   "cell_type": "code",
   "execution_count": null,
   "id": "e0c8a8ae-04b6-4993-89e9-9d2d06f827bb",
   "metadata": {},
   "outputs": [],
   "source": [
    "\n"
   ]
  },
  {
   "cell_type": "code",
   "execution_count": null,
   "id": "864dcdf3-4a42-4462-90bf-a6cfe01ed764",
   "metadata": {},
   "outputs": [],
   "source": [
    "import statistics\n",
    "\n",
    "def checkmean(l):\n",
    "    mean = statistics.mean(l)\n",
    "    return mean\n",
    "\n",
    "def checkmedian(l):\n",
    "    median = statistics.median(l)\n",
    "    return median\n",
    "\n",
    "def checkmode(l):\n",
    "    try:\n",
    "        mode = statistics.mode(l)\n",
    "    except:\n",
    "        mode = \"No uniquwe mode found\"\n",
    "        \n",
    "    return mode\n",
    "\n",
    "\n",
    "\n",
    "s = input('Enter the elements of the list to be separated using \",\" : ').split(',')\n",
    "l = [int(x) for x in s]\n",
    "mean = checkmean(l)\n",
    "median = checkmedian(l)\n",
    "mode = checkmode(l)"
   ]
  },
  {
   "cell_type": "code",
   "execution_count": null,
   "id": "8aed52d5-eb0c-4dd6-a683-3bf0b8672b07",
   "metadata": {},
   "outputs": [],
   "source": []
  },
  {
   "cell_type": "code",
   "execution_count": null,
   "id": "f1f9ba17-569a-452a-b1c4-11d2295235ec",
   "metadata": {},
   "outputs": [],
   "source": [
    "a = 1\n",
    "print(a)"
   ]
  },
  {
   "cell_type": "code",
   "execution_count": null,
   "id": "193b2487-4d7e-41cb-856a-30771c31c29d",
   "metadata": {},
   "outputs": [],
   "source": []
  }
 ],
 "metadata": {
  "kernelspec": {
   "display_name": "Python 3 (ipykernel)",
   "language": "python",
   "name": "python3"
  },
  "language_info": {
   "codemirror_mode": {
    "name": "ipython",
    "version": 3
   },
   "file_extension": ".py",
   "mimetype": "text/x-python",
   "name": "python",
   "nbconvert_exporter": "python",
   "pygments_lexer": "ipython3",
   "version": "3.10.8"
  }
 },
 "nbformat": 4,
 "nbformat_minor": 5
}
